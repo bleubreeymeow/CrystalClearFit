{
 "cells": [
  {
   "cell_type": "code",
   "metadata": {
    "ExecuteTime": {
     "end_time": "2025-04-12T18:13:38.318690Z",
     "start_time": "2025-04-12T18:13:32.603530Z"
    }
   },
   "source": [
    "import numpy as np\n",
    "import matplotlib.pyplot as plt\n",
    "import tensorflow as tf\n",
    "import pandas as pd\n",
    "from tqdm import tqdm\n",
    "from functions import shift_atoms, transform_list_hkl_p63, get_structure_factor\n",
    "\n",
    "num_threads = 2  \n",
    "\n",
    "# Configure TensorFlow to use multiple threads\n",
    "tf.config.threading.set_intra_op_parallelism_threads(num_threads)\n",
    "tf.config.threading.set_inter_op_parallelism_threads(num_threads)\n",
    "\n",
    "print(f\"Using {num_threads} threads for intra-op and inter-op parallelism.\")"
   ],
   "outputs": [
    {
     "name": "stdout",
     "output_type": "stream",
     "text": [
      "Using 2 threads for intra-op and inter-op parallelism.\n"
     ]
    }
   ],
   "execution_count": 1
  },
  {
   "cell_type": "markdown",
   "metadata": {},
   "source": [
    "Define the function containing the fitting parameters\n",
    "\n",
    "<span style=\"color:yellow\">Note on actual unit cell structure refinement problem:</span>\n",
    "- `fun_tf()` correspond to the **structure factor calculation function** (one has to convert it to a **TF-compatible** function)\n",
    "- <span style=\"color:red\">If conversion to TF-compatible function is not possible, then this approach will probably not work (or becomes much more tedious at least)</span>"
   ]
  },
  {
   "cell_type": "code",
   "metadata": {
    "ExecuteTime": {
     "end_time": "2025-04-12T18:13:38.349505Z",
     "start_time": "2025-04-12T18:13:38.335912Z"
    }
   },
   "source": [
    "def fun_tf(x, pars):\n",
    "    \"\"\"\n",
    "    Function depending on parameters to be fitted.\n",
    "\n",
    "    Parameters\n",
    "    ----------\n",
    "    x : Tensor\n",
    "        3D Tensor of shape [N, 3] representing the hkl vectors\n",
    "    pars : List or Tensor\n",
    "        1D Tensor with six elements representing the parameters\n",
    "    \"\"\"\n",
    "    # Modify structure with parameters\n",
    "    modified_struct  = shift_atoms(*pars)\n",
    "    \n",
    "    # Compute the structure factor for hkl\n",
    "    struct_self_hkl = tf.map_fn(\n",
    "        lambda hkl: get_structure_factor(hkl, modified_struct), \n",
    "        x, \n",
    "        fn_output_signature=tf.complex64  \n",
    "    )\n",
    "    \n",
    "    # Compute the structure factor for [h, -k, l]\n",
    "    struct_self_neg_k = tf.map_fn(\n",
    "        lambda hkl: get_structure_factor([hkl[0], -hkl[1], hkl[2]], modified_struct),  # Negate only the k-value\n",
    "        x, \n",
    "        fn_output_signature=tf.complex64  \n",
    "    )\n",
    "    \n",
    "    # Combine the intensities for hkl and -hkl by adding them together\n",
    "    intensity = tf.abs(struct_self_hkl) ** 2 + tf.abs(struct_self_neg_k) ** 2\n",
    "    \n",
    "    # Normalize the intensity to the maximum value\n",
    "    return intensity / tf.reduce_max(intensity)"
   ],
   "outputs": [],
   "execution_count": 2
  },
  {
   "metadata": {
    "ExecuteTime": {
     "end_time": "2025-04-12T18:13:38.881992Z",
     "start_time": "2025-04-12T18:13:38.357523Z"
    }
   },
   "cell_type": "code",
   "source": [
    "# Example input data\n",
    "x_example = np.array([[1, 0, 0], [0, 1, 0], [0, 0, 1]], dtype=np.float32)\n",
    "pars_example = np.array([-0.01, 0.01, 0, 0.04, -0.2, 0.01], dtype=np.float32)\n",
    "\n",
    "# Convert to TensorFlow tensors\n",
    "x_example_tf = tf.convert_to_tensor(x_example)\n",
    "pars_example_tf = tf.convert_to_tensor(pars_example)\n",
    "\n",
    "print(tf.complex(0.0, -1.0))\n",
    "print(tf.complex(2 * np.pi, 0.0))\n",
    "print(tf.complex(0.0, -1.0)*tf.complex(2 * np.pi, 0.0))\n",
    "# Call the function with the example data\n",
    "result = fun_tf(x_example_tf, pars_example_tf)\n",
    "# Print the result\n",
    "tf.print(\"Result shape:\", tf.shape(result))\n",
    "tf.print(\"Result:\", result)"
   ],
   "outputs": [
    {
     "name": "stdout",
     "output_type": "stream",
     "text": [
      "tf.Tensor(-1j, shape=(), dtype=complex64)\n",
      "tf.Tensor((6.2831855+0j), shape=(), dtype=complex64)\n",
      "tf.Tensor(-6.2831855j, shape=(), dtype=complex64)\n",
      "Result shape: [3]\r\n",
      "Result: [1 0.81468457 0.818806112]\r\n"
     ]
    }
   ],
   "execution_count": 3
  },
  {
   "cell_type": "markdown",
   "metadata": {},
   "source": [
    "Sample the model parameters (fitting parameters)\n",
    "\n",
    "<span style=\"color:yellow\">Note on actual unit cell structure refinement problem:</span>\n",
    "- The six parameters correspond to the fractional atomic shifts in the modes w.r.t. unit cell lengths"
   ]
  },
  {
   "cell_type": "code",
   "metadata": {
    "ExecuteTime": {
     "end_time": "2025-04-12T18:13:40.533687Z",
     "start_time": "2025-04-12T18:13:40.483146Z"
    }
   },
   "source": [
    "experimental_data = pd.read_csv('/home/mariolb/repos/CrystalClearFit/DistortionFit/new_data.csv')\n",
    "\n",
    "hkl_list = experimental_data[[\"h\", \"k\", \"l\"]].values.tolist()\n",
    "hkl_list_trans = transform_list_hkl_p63(hkl_list)\n",
    "\n",
    "max_par_value = 0.01\n",
    "print(experimental_data.shape)\n",
    "print(hkl_list_trans[0:5])"
   ],
   "outputs": [
    {
     "name": "stdout",
     "output_type": "stream",
     "text": [
      "(866, 16)\n",
      "tf.Tensor(\n",
      "[[ 0. -0. -1.]\n",
      " [ 0.  2.  0.]\n",
      " [ 0. -2. -2.]\n",
      " [ 0.  4.  1.]\n",
      " [ 0. -4. -3.]], shape=(5, 3), dtype=float32)\n"
     ]
    }
   ],
   "execution_count": 4
  },
  {
   "cell_type": "markdown",
   "metadata": {},
   "source": [
    "Sample the \"training data\" (features and labels)\n",
    "\n",
    "<span style=\"color:yellow\">Note on actual unit cell structure refinement problem:</span>\n",
    "- The features are the (h,k,l) coordinates (e.g. a vector of size `n_features` x 3, i.e. `n_dim = 3`)\n",
    "- Maybe one has to normalize the features (i.e. not using integers but floats between -1 (0) and 1)? Before passing them to the structure calculation function, they should be again rescaled to integers\n",
    "- The labels would be the experimental intensities (again, maybe have to be normalized to the range between 0 and 1)"
   ]
  },
  {
   "cell_type": "code",
   "metadata": {
    "ExecuteTime": {
     "end_time": "2025-04-12T18:13:41.643965Z",
     "start_time": "2025-04-12T18:13:41.631427Z"
    }
   },
   "source": [
    "n_features = experimental_data.shape[0]\n",
    "n_dim = 3\n",
    "\n",
    "features = hkl_list_trans\n",
    "labels = experimental_data[\"intensity_exp\"].tolist()\n",
    "labels = tf.convert_to_tensor(labels, dtype=tf.float32)\n",
    "print(\"Features shape:\", features.shape)\n",
    "print(\"Labels shape:\", labels.shape)\n",
    "print(labels[0:5])\n"
   ],
   "outputs": [
    {
     "name": "stdout",
     "output_type": "stream",
     "text": [
      "Features shape: (866, 3)\n",
      "Labels shape: (866,)\n",
      "tf.Tensor([0.         0.         0.02016284 0.02016284 0.10172065], shape=(5,), dtype=float32)\n"
     ]
    }
   ],
   "execution_count": 5
  },
  {
   "cell_type": "markdown",
   "metadata": {},
   "source": [
    "Define a simple model\n",
    "\n",
    "<span style=\"color:yellow\">Note on actual unit cell structure refinement problem:</span>\n",
    "- The six parameters (a,b,c,d,e,f) correspond to the fractional atomic shifts in the modes w.r.t. unit cell lengths\n",
    "- Instead of `sigmoid`, `tanh` should be applied to the parameters before passing them to the structure factor calculation function (ensures smoother gradient landscape)\n",
    "- The `tanh` function can furthermore be limited to a specific range (e.g. if atomic distortions should not exceed +- 0.1)"
   ]
  },
  {
   "cell_type": "code",
   "metadata": {
    "ExecuteTime": {
     "end_time": "2025-04-12T18:13:42.584682Z",
     "start_time": "2025-04-12T18:13:42.564045Z"
    }
   },
   "source": [
    "class FunAsLayer(tf.keras.layers.Layer):\n",
    "    def __init__(self, max_par_value=0.01, **kwargs):\n",
    "        super().__init__(**kwargs)\n",
    "        self.max_par_value = max_par_value\n",
    "\n",
    "    def build(self, input_shape):\n",
    "        # Define six trainable parameters\n",
    "        self.a = self.add_weight(name='a', shape=(), initializer=tf.keras.initializers.he_uniform(), trainable=True)\n",
    "        self.b = self.add_weight(name='b', shape=(), initializer=tf.keras.initializers.he_uniform(), trainable=True)\n",
    "        self.c = self.add_weight(name='c', shape=(), initializer=tf.keras.initializers.he_uniform(), trainable=True)\n",
    "        self.d = self.add_weight(name='d', shape=(), initializer=tf.keras.initializers.he_uniform(), trainable=True)\n",
    "        self.e = self.add_weight(name='e', shape=(), initializer=tf.keras.initializers.he_uniform(), trainable=True)\n",
    "        self.f = self.add_weight(name='f', shape=(), initializer=tf.keras.initializers.he_uniform(), trainable=True)\n",
    "        super().build(input_shape)\n",
    "\n",
    "    def call(self, inputs):\n",
    "        # Apply tanh to ensure parameters stay within the [-0.1, 0.1] range\n",
    "        a = self.max_par_value * tf.tanh(self.a)\n",
    "        b = self.max_par_value * tf.tanh(self.b)\n",
    "        c = self.max_par_value * tf.tanh(self.c)\n",
    "        d = self.max_par_value * tf.tanh(self.d)\n",
    "        e = self.max_par_value * tf.tanh(self.e)\n",
    "        f = self.max_par_value * tf.tanh(self.f)\n",
    "        \n",
    "        # Call your fun_tf function to get the output\n",
    "        return fun_tf(inputs, [a, b, c, d, e, f])\n",
    "\n",
    "    def compute_output_shape(self, input_shape):\n",
    "        # If the input has shape (None, 3), return the same shape\n",
    "        return (input_shape[0], 1)  # This assumes your output is of shape (None, 1)\n"
   ],
   "outputs": [],
   "execution_count": 6
  },
  {
   "cell_type": "markdown",
   "metadata": {},
   "source": [
    "Create optimizer and define loss function\n",
    "\n",
    "<span style=\"color:yellow\">Note on actual unit cell structure refinement problem:</span>\n",
    "- The learning rate must be determined by experimentation (same holds for the batch size and the number of epochs below)\n",
    "- As a loss function, one can try either MSE or R-score (MSE seems to be the more \"natural choice\" in this case)"
   ]
  },
  {
   "cell_type": "code",
   "metadata": {
    "ExecuteTime": {
     "end_time": "2025-04-12T18:52:49.354975Z",
     "start_time": "2025-04-12T18:52:49.342454Z"
    }
   },
   "source": [
    "# Define the custom loss function\n",
    "class RFactorLoss(tf.keras.losses.Loss):\n",
    "    def call(self, y_true, y_pred):\n",
    "        return tf.reduce_sum(tf.abs(y_true - y_pred)) / tf.reduce_sum(tf.abs(y_true))\n",
    "\n",
    "# Define the custom metric function\n",
    "def r_factor_metric(y_true, y_pred):\n",
    "    return tf.reduce_sum(tf.abs(y_true - y_pred)) / tf.reduce_sum(tf.abs(y_true))\n",
    "\n",
    "# Instantiate the Adam optimizer\n",
    "optim = tf.keras.optimizers.Adam(learning_rate=2e-2)\n"
   ],
   "outputs": [],
   "execution_count": 10
  },
  {
   "cell_type": "markdown",
   "metadata": {},
   "source": [
    "Train the model for n iterations (to try different initial weights)\n",
    "\n",
    "<span style=\"color:yellow\">Note on actual unit cell structure refinement problem:</span>\n",
    "- The number of iterations defines the \"starting position\" $w_0$ of the gradient descent algorithm\n",
    "- Because there are probably many local minima, changing $w_0$ allows the algorithm to find different minima and increases the chances of finding the global minima"
   ]
  },
  {
   "metadata": {
    "ExecuteTime": {
     "end_time": "2025-04-12T19:35:14.468551Z",
     "start_time": "2025-04-12T18:52:51.122570Z"
    }
   },
   "cell_type": "code",
   "source": [
    "histories = []\n",
    "n_iter = 4\n",
    "\n",
    "min_loss = np.inf\n",
    "best_pars = None\n",
    "\n",
    "# List to store the loss values for each epoch\n",
    "all_losses = []\n",
    "\n",
    "for i in range(n_iter):\n",
    "    # Create the model\n",
    "    inputs = tf.keras.Input(shape=(n_dim,))\n",
    "    outputs = FunAsLayer(max_par_value)(inputs)\n",
    "    model = tf.keras.Model(inputs, outputs)\n",
    "\n",
    "    # Compile the model with the custom loss function and metric\n",
    "    model.compile(\n",
    "        optimizer=optim,\n",
    "        loss=RFactorLoss(),\n",
    "        metrics=[r_factor_metric]\n",
    "    )\n",
    "    \n",
    "    # Use tqdm to create a custom progress bar for each epoch\n",
    "    with tqdm(total=1000, desc=f\"Iteration {i+1}\") as pbar:\n",
    "        # List to store loss for this iteration\n",
    "        iteration_losses = []\n",
    "\n",
    "        for epoch in range(1000):\n",
    "            # Train the model for one step (epoch)\n",
    "            history = model.fit(\n",
    "                x=features,  \n",
    "                y=labels,    \n",
    "                batch_size=866,\n",
    "                epochs=1,  # Train for one epoch at a time\n",
    "                verbose=0  # No output during training\n",
    "            )\n",
    "            \n",
    "            # Update progress bar\n",
    "            pbar.update(1)\n",
    "            \n",
    "            # Store the loss for this epoch\n",
    "            epoch_loss = history.history['loss'][-1]\n",
    "            iteration_losses.append(epoch_loss)\n",
    "            \n",
    "            # Update progress bar description with current loss\n",
    "            pbar.set_postfix(loss=epoch_loss)\n",
    "\n",
    "        # Append the losses for this iteration to the overall list\n",
    "        all_losses.append(iteration_losses)\n",
    "        histories.append(history)\n",
    "\n",
    "    # Check final loss\n",
    "    final_loss = iteration_losses[-1]\n",
    "\n",
    "    if final_loss < min_loss:\n",
    "        # Update best model parameters\n",
    "        best_model_pars = [max_par_value * tf.tanh(model.layers[-1].get_weights()[i]) for i in range(6)]\n",
    "        min_loss = final_loss\n",
    "        rf = r_factor_metric(labels, fun_tf(features, best_model_pars))\n",
    "        print(f\"Iteration {i+1} - New best loss: {min_loss:.2e} (R-factor: {rf:.2e})\")\n"
   ],
   "outputs": [
    {
     "name": "stderr",
     "output_type": "stream",
     "text": [
      "Iteration 1: 100%|██████████| 1000/1000 [10:39<00:00,  1.56it/s, loss=1.03]\n"
     ]
    },
    {
     "name": "stdout",
     "output_type": "stream",
     "text": [
      "Iteration 1 - New best loss: 1.03e+00 (R-factor: 1.03e+00)\n"
     ]
    },
    {
     "name": "stderr",
     "output_type": "stream",
     "text": [
      "Iteration 2: 100%|██████████| 1000/1000 [11:05<00:00,  1.50it/s, loss=1.08]\n",
      "Iteration 3: 100%|██████████| 1000/1000 [09:45<00:00,  1.71it/s, loss=1.08]\n",
      "Iteration 4: 100%|██████████| 1000/1000 [10:27<00:00,  1.59it/s, loss=1.03]\n"
     ]
    }
   ],
   "execution_count": 11
  },
  {
   "metadata": {
    "ExecuteTime": {
     "end_time": "2025-04-12T19:35:21.916756Z",
     "start_time": "2025-04-12T19:35:21.771917Z"
    }
   },
   "cell_type": "code",
   "source": [
    "# Plotting the loss values\n",
    "plt.figure(figsize=(10, 6))\n",
    "\n",
    "# Plot the loss values for each iteration\n",
    "for i, loss_values in enumerate(all_losses):\n",
    "    plt.plot(loss_values, label=f'Iteration {i+1}')\n",
    "\n",
    "plt.title('Loss vs Epochs')\n",
    "plt.xlabel('Epochs')\n",
    "plt.ylabel('Loss')\n",
    "plt.legend()\n",
    "plt.grid(True)\n",
    "plt.show()\n",
    "\n",
    "# Print the best model parameters\n",
    "print(\"Best model parameters:\")\n",
    "for i, par in enumerate(best_model_pars):\n",
    "    print(f\"Parameter {i+1}: {par.numpy():.4f}\")\n",
    "    \n",
    "# Print the model summary\n",
    "print(\"Optimizer:\", optim.learning_rate.numpy())\n",
    "print(\"Loss function:\", RFactorLoss())\n",
    "print(\"Metric function:\", r_factor_metric)\n",
    "print(\"Maximum parameter value:\", max_par_value)\n",
    "print(\"Number of iterations:\", n_iter)\n",
    "print(\"Number of features:\", n_features)\n",
    "model.summary()"
   ],
   "outputs": [
    {
     "data": {
      "text/plain": [
       "<Figure size 1000x600 with 1 Axes>"
      ],
      "image/png": "[encoded data removed]"
     },
     "metadata": {},
     "output_type": "display_data"
    },
    {
     "name": "stdout",
     "output_type": "stream",
     "text": [
      "Best model parameters:\n",
      "Parameter 1: 0.0000\n",
      "Parameter 2: -0.0006\n",
      "Parameter 3: 0.0100\n",
      "Parameter 4: 0.0054\n",
      "Parameter 5: 0.0008\n",
      "Parameter 6: 0.0007\n",
      "Optimizer: 0.02\n",
      "Loss function: <__main__.RFactorLoss object at 0x000002062DC14670>\n",
      "Metric function: <function r_factor_metric at 0x00000206862F5900>\n",
      "Maximum parameter value: 0.01\n",
      "Number of iterations: 4\n",
      "Number of features: 866\n",
      "Model: \"model_7\"\n",
      "_________________________________________________________________\n",
      " Layer (type)                Output Shape              Param #   \n",
      "=================================================================\n",
      " input_8 (InputLayer)        [(None, 3)]               0         \n",
      "                                                                 \n",
      " fun_as_layer_7 (FunAsLayer)  (None,)                  6         \n",
      "                                                                 \n",
      "=================================================================\n",
      "Total params: 6\n",
      "Trainable params: 6\n",
      "Non-trainable params: 0\n",
      "_________________________________________________________________\n"
     ]
    }
   ],
   "execution_count": 12
  },
  {
   "metadata": {},
   "cell_type": "code",
   "outputs": [],
   "execution_count": null,
   "source": ""
  }
 ],
 "metadata": {
  "kernelspec": {
   "display_name": "tf",
   "language": "python",
   "name": "python3"
  },
  "language_info": {
   "codemirror_mode": {
    "name": "ipython",
    "version": 3
   },
   "file_extension": ".py",
   "mimetype": "text/x-python",
   "name": "python",
   "nbconvert_exporter": "python",
   "pygments_lexer": "ipython3",
   "version": "3.9.18"
  }
 },
 "nbformat": 4,
 "nbformat_minor": 2
}
